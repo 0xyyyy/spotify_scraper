{
 "metadata": {
  "language_info": {
   "codemirror_mode": {
    "name": "ipython",
    "version": 3
   },
   "file_extension": ".py",
   "mimetype": "text/x-python",
   "name": "python",
   "nbconvert_exporter": "python",
   "pygments_lexer": "ipython3",
   "version": "3.7.4-final"
  },
  "orig_nbformat": 2,
  "kernelspec": {
   "name": "Python 3.7.4 64-bit ('base': conda)",
   "display_name": "Python 3.7.4 64-bit ('base': conda)",
   "metadata": {
    "interpreter": {
     "hash": "8b741458ba08a3968a4a9ea1381be20a3fa830ec2f03a5665d9e89b5f62f7203"
    }
   }
  }
 },
 "nbformat": 4,
 "nbformat_minor": 2,
 "cells": [
  {
   "cell_type": "code",
   "execution_count": 1,
   "metadata": {},
   "outputs": [],
   "source": [
    "import requests\n",
    "import json\n",
    "import pandas as pd \n",
    "import numpy \n",
    "import datetime \n",
    "from api_key import client_id\n",
    "from api_key import client_secret"
   ]
  },
  {
   "cell_type": "code",
   "execution_count": 3,
   "metadata": {},
   "outputs": [],
   "source": [
    "#Request authorization; user logs in and authorizes access \n",
    "#authorize endpoint in account services \n",
    "auth_url = \"https://accounts.spotify.com/api/token\"\n",
    "\n",
    "auth_response = requests.post(auth_url, {\n",
    "    'grant_type' : 'client_credentials',\n",
    "    'client_id' : client_id,\n",
    "    'client_secret' : client_secret\n",
    "})\n",
    "\n",
    "auth_response_data = auth_response.json()\n",
    "\n",
    "access_token = auth_response_data['access_token']"
   ]
  },
  {
   "cell_type": "code",
   "execution_count": 10,
   "metadata": {},
   "outputs": [],
   "source": [
    "#format for the header to request info from API \n",
    "headers = {\n",
    "    'Authorization': 'Bearer {token}'.format(token=access_token)\n",
    "}"
   ]
  },
  {
   "cell_type": "code",
   "execution_count": 11,
   "metadata": {},
   "outputs": [],
   "source": [
    "base_url = \"https://api.spotify.com/v1/search?\"\n",
    "\n",
    "q = \"q=name:country&\"\n",
    "\n",
    "q_type = \"type=playlist\"\n",
    "\n",
    "r = requests.get(base_url + q + q_type, headers=headers)"
   ]
  },
  {
   "cell_type": "code",
   "execution_count": 12,
   "metadata": {},
   "outputs": [
    {
     "output_type": "execute_result",
     "data": {
      "text/plain": "{&#39;playlists&#39;: {&#39;href&#39;: &#39;https://api.spotify.com/v1/search?query=name%3Acountry&amp;type=playlist&amp;offset=0&amp;limit=20&#39;,\n  &#39;items&#39;: [{&#39;collaborative&#39;: False,\n    &#39;description&#39;: &quot;TO SUBMIT A SONG please go to instagram.com/ryanrobinette | The hottest country tracks from 2019 - 2020. From big names who&#39;ve been burning up the charts for years to the hottest new acts in country! All right here - updated weekly. #countrymusic #hotcountry #newcountry #newboots&quot;,\n    &#39;external_urls&#39;: {&#39;spotify&#39;: &#39;https://open.spotify.com/playlist/7ot6fpKqnafbgXDLU9kLNC&#39;},\n    &#39;href&#39;: &#39;https://api.spotify.com/v1/playlists/7ot6fpKqnafbgXDLU9kLNC&#39;,\n    &#39;id&#39;: &#39;7ot6fpKqnafbgXDLU9kLNC&#39;,\n    &#39;images&#39;: [{&#39;height&#39;: 300,\n      &#39;url&#39;: &#39;https://i.scdn.co/image/ab67706c0000da84abfd20903c454b83a7c98115&#39;,\n      &#39;width&#39;: 300}],\n    &#39;name&#39;: &#39;Country 2020-2021&#39;,\n    &#39;owner&#39;: {&#39;display_name&#39;: &#39;Ryan Robinette&#39;,\n     &#39;external_urls&#39;: {&#39;spotify&#39;: &#39;https://open.spotify.com/user/1225816146&#39;},\n     &#39;href&#39;: &#39;https://api.spotify.com/v1/users/1225816146&#39;,\n     &#39;id&#39;: &#39;1225816146&#39;,\n     &#39;type&#39;: &#39;user&#39;,\n     &#39;uri&#39;: &#39;spotify:user:1225816146&#39;},\n    &#39;primary_color&#39;: None,\n    &#39;public&#39;: None,\n    &#39;snapshot_id&#39;: &#39;OTQ5LDc1ZjJjYWVmNjZlMzZhOGY3NGQ3YzZhY2Q2YmE2NGVmNzZkOTgwMDc=&#39;,\n    &#39;tracks&#39;: {&#39;href&#39;: &#39;https://api.spotify.com/v1/playlists/7ot6fpKqnafbgXDLU9kLNC/tracks&#39;,\n     &#39;total&#39;: 114},\n    &#39;type&#39;: &#39;playlist&#39;,\n    &#39;uri&#39;: &#39;spotify:playlist:7ot6fpKqnafbgXDLU9kLNC&#39;},\n   {&#39;collaborative&#39;: False,\n    &#39;description&#39;: &#39;The sweet spot where Pop meets Country! Featuring your favourite Australian artists, and the biggest US names!&#39;,\n    &#39;external_urls&#39;: {&#39;spotify&#39;: &#39;https://open.spotify.com/playlist/5nYBZ7TM7SRaf2sYGxM5xO&#39;},\n    &#39;href&#39;: &#39;https://api.spotify.com/v1/playlists/5nYBZ7TM7SRaf2sYGxM5xO&#39;,\n    &#39;id&#39;: &#39;5nYBZ7TM7SRaf2sYGxM5xO&#39;,\n    &#39;images&#39;: [{&#39;height&#39;: None,\n      &#39;url&#39;: &#39;https://i.scdn.co/image/ab67706c0000bebb4ecc6ad2c43ecb0a9108c12b&#39;,\n      &#39;width&#39;: None}],\n    &#39;name&#39;: &quot;Pop&#39;N&#39;Country&quot;,\n    &#39;owner&#39;: {&#39;display_name&#39;: &#39;Topsify Australia&#39;,\n     &#39;external_urls&#39;: {&#39;spotify&#39;: &#39;https://open.spotify.com/user/popmob&#39;},\n     &#39;href&#39;: &#39;https://api.spotify.com/v1/users/popmob&#39;,\n     &#39;id&#39;: &#39;popmob&#39;,\n     &#39;type&#39;: &#39;user&#39;,\n     &#39;uri&#39;: &#39;spotify:user:popmob&#39;},\n    &#39;primary_color&#39;: None,\n    &#39;public&#39;: None,\n    &#39;snapshot_id&#39;: &#39;MTI2NixkZThjN2FmMWRiMTJjYzQ5NWM1YTFiYmMyMDE1NjRlMTAyOWQ0NzYx&#39;,\n    &#39;tracks&#39;: {&#39;href&#39;: &#39;https://api.spotify.com/v1/playlists/5nYBZ7TM7SRaf2sYGxM5xO/tracks&#39;,\n     &#39;total&#39;: 59},\n    &#39;type&#39;: &#39;playlist&#39;,\n    &#39;uri&#39;: &#39;spotify:playlist:5nYBZ7TM7SRaf2sYGxM5xO&#39;},\n   {&#39;collaborative&#39;: False,\n    &#39;description&#39;: &#39;Helping new country artists, and a few old ones, get their name out.&#39;,\n    &#39;external_urls&#39;: {&#39;spotify&#39;: &#39;https://open.spotify.com/playlist/5S5EGubqD8LGcvcrb0MIVT&#39;},\n    &#39;href&#39;: &#39;https://api.spotify.com/v1/playlists/5S5EGubqD8LGcvcrb0MIVT&#39;,\n    &#39;id&#39;: &#39;5S5EGubqD8LGcvcrb0MIVT&#39;,\n    &#39;images&#39;: [{&#39;height&#39;: 640,\n      &#39;url&#39;: &#39;https://mosaic.scdn.co/640/ab67616d0000b2734a66bb933c1023201367895fab67616d0000b273733429e2630e571609ebd015ab67616d0000b273a09f5b26fa66619d3361c422ab67616d0000b273d260221a167a990fa90acf4d&#39;,\n      &#39;width&#39;: 640},\n     {&#39;height&#39;: 300,\n      &#39;url&#39;: &#39;https://mosaic.scdn.co/300/ab67616d0000b2734a66bb933c1023201367895fab67616d0000b273733429e2630e571609ebd015ab67616d0000b273a09f5b26fa66619d3361c422ab67616d0000b273d260221a167a990fa90acf4d&#39;,\n      &#39;width&#39;: 300},\n     {&#39;height&#39;: 60,\n      &#39;url&#39;: &#39;https://mosaic.scdn.co/60/ab67616d0000b2734a66bb933c1023201367895fab67616d0000b273733429e2630e571609ebd015ab67616d0000b273a09f5b26fa66619d3361c422ab67616d0000b273d260221a167a990fa90acf4d&#39;,\n      &#39;width&#39;: 60}],\n    &#39;name&#39;: &#39;2020 Country Music&#39;,\n    &#39;owner&#39;: {&#39;display_name&#39;: &#39;Adam Denney&#39;,\n     &#39;external_urls&#39;: {&#39;spotify&#39;: &#39;https://open.spotify.com/user/1228342060&#39;},\n     &#39;href&#39;: &#39;https://api.spotify.com/v1/users/1228342060&#39;,\n     &#39;id&#39;: &#39;1228342060&#39;,\n     &#39;type&#39;: &#39;user&#39;,\n     &#39;uri&#39;: &#39;spotify:user:1228342060&#39;},\n    &#39;primary_color&#39;: None,\n    &#39;public&#39;: None,\n    &#39;snapshot_id&#39;: &#39;MjA4Miw2YTQ3OTdiZGE4ZGM3OGZkMDQxZTMyZWEwNzkyYWM1NjA3YmQ2ZTQw&#39;,\n    &#39;tracks&#39;: {&#39;href&#39;: &#39;https://api.spotify.com/v1/playlists/5S5EGubqD8LGcvcrb0MIVT/tracks&#39;,\n     &#39;total&#39;: 109},\n    &#39;type&#39;: &#39;playlist&#39;,\n    &#39;uri&#39;: &#39;spotify:playlist:5S5EGubqD8LGcvcrb0MIVT&#39;},\n   {&#39;collaborative&#39;: False,\n    &#39;description&#39;: &#39;What&amp;#x27;s better than a playlist featuring two of the hottest names in Country Music? MAYBE a cold beer, but that&amp;#x27;s it. &#39;,\n    &#39;external_urls&#39;: {&#39;spotify&#39;: &#39;https://open.spotify.com/playlist/54meGUzXjGJuRsH9vu5YEc&#39;},\n    &#39;href&#39;: &#39;https://api.spotify.com/v1/playlists/54meGUzXjGJuRsH9vu5YEc&#39;,\n    &#39;id&#39;: &#39;54meGUzXjGJuRsH9vu5YEc&#39;,\n    &#39;images&#39;: [{&#39;height&#39;: 300,\n      &#39;url&#39;: &#39;https://i.scdn.co/image/ab67706c0000da843970a4dc2f126a097988e758&#39;,\n      &#39;width&#39;: 300}],\n    &#39;name&#39;: &#39;Luke Combs x Morgan Wallen &#39;,\n    &#39;owner&#39;: {&#39;display_name&#39;: &#39;UPstar_Music&#39;,\n     &#39;external_urls&#39;: {&#39;spotify&#39;: &#39;https://open.spotify.com/user/unyrdktzxtzw2qjmvu83pbsxs&#39;},\n     &#39;href&#39;: &#39;https://api.spotify.com/v1/users/unyrdktzxtzw2qjmvu83pbsxs&#39;,\n     &#39;id&#39;: &#39;unyrdktzxtzw2qjmvu83pbsxs&#39;,\n     &#39;type&#39;: &#39;user&#39;,\n     &#39;uri&#39;: &#39;spotify:user:unyrdktzxtzw2qjmvu83pbsxs&#39;},\n    &#39;primary_color&#39;: None,\n    &#39;public&#39;: None,\n    &#39;snapshot_id&#39;: &#39;ODAsYTE2OWJjMzQ5ZGQzNDAyZTg2MGE3MTBjNzg5OWFiNTc3NDg0NzI1Ng==&#39;,\n    &#39;tracks&#39;: {&#39;href&#39;: &#39;https://api.spotify.com/v1/playlists/54meGUzXjGJuRsH9vu5YEc/tracks&#39;,\n     &#39;total&#39;: 51},\n    &#39;type&#39;: &#39;playlist&#39;,\n    &#39;uri&#39;: &#39;spotify:playlist:54meGUzXjGJuRsH9vu5YEc&#39;},\n   {&#39;collaborative&#39;: False,\n    &#39;description&#39;: &#39;Country &amp;amp; Americana&amp;#x27;s next generation of newcomers on the rise and household names we all know and love! Updated weekly!&#39;,\n    &#39;external_urls&#39;: {&#39;spotify&#39;: &#39;https://open.spotify.com/playlist/6x0tEfPJZuTu2hBSgZBnnR&#39;},\n    &#39;href&#39;: &#39;https://api.spotify.com/v1/playlists/6x0tEfPJZuTu2hBSgZBnnR&#39;,\n    &#39;id&#39;: &#39;6x0tEfPJZuTu2hBSgZBnnR&#39;,\n    &#39;images&#39;: [{&#39;height&#39;: None,\n      &#39;url&#39;: &#39;https://i.scdn.co/image/ab67706c0000bebbfc09c4b745e2bc382da6b87d&#39;,\n      &#39;width&#39;: None}],\n    &#39;name&#39;: &#39;New Nashville&#39;,\n    &#39;owner&#39;: {&#39;display_name&#39;: &#39;Cmd Shft&#39;,\n     &#39;external_urls&#39;: {&#39;spotify&#39;: &#39;https://open.spotify.com/user/zon4l58o4nc9i7hxhp2qj35lh&#39;},\n     &#39;href&#39;: &#39;https://api.spotify.com/v1/users/zon4l58o4nc9i7hxhp2qj35lh&#39;,\n     &#39;id&#39;: &#39;zon4l58o4nc9i7hxhp2qj35lh&#39;,\n     &#39;type&#39;: &#39;user&#39;,\n     &#39;uri&#39;: &#39;spotify:user:zon4l58o4nc9i7hxhp2qj35lh&#39;},\n    &#39;primary_color&#39;: None,\n    &#39;public&#39;: None,\n    &#39;snapshot_id&#39;: &#39;MTk3NCw2OWRkMWZiNDlmNmFiZTI4ZGVjM2I1NTQxMTgzMjIxODFlY2M0OTE4&#39;,\n    &#39;tracks&#39;: {&#39;href&#39;: &#39;https://api.spotify.com/v1/playlists/6x0tEfPJZuTu2hBSgZBnnR/tracks&#39;,\n     &#39;total&#39;: 50},\n    &#39;type&#39;: &#39;playlist&#39;,\n    &#39;uri&#39;: &#39;spotify:playlist:6x0tEfPJZuTu2hBSgZBnnR&#39;},\n   {&#39;collaborative&#39;: False,\n    &#39;description&#39;: &#39;Add This Music has put together a list of the top tracks across Hip Hop, R&amp;amp;B, Pop, EDM, Country, Rock, you name it! The world&amp;#x27;s best clean music playlist ever! Be sure to follow the playlist &amp;amp; subscribe!&#39;,\n    &#39;external_urls&#39;: {&#39;spotify&#39;: &#39;https://open.spotify.com/playlist/28uh84Y9Qp38LzZeZk0sbb&#39;},\n    &#39;href&#39;: &#39;https://api.spotify.com/v1/playlists/28uh84Y9Qp38LzZeZk0sbb&#39;,\n    &#39;id&#39;: &#39;28uh84Y9Qp38LzZeZk0sbb&#39;,\n    &#39;images&#39;: [{&#39;height&#39;: None,\n      &#39;url&#39;: &#39;https://i.scdn.co/image/ab67706c0000bebb152cc36c074b07568491b4d4&#39;,\n      &#39;width&#39;: None}],\n    &#39;name&#39;: &#39;Undiscovered Gems 2020&#39;,\n    &#39;owner&#39;: {&#39;display_name&#39;: &#39;addthismusic&#39;,\n     &#39;external_urls&#39;: {&#39;spotify&#39;: &#39;https://open.spotify.com/user/addthismusic&#39;},\n     &#39;href&#39;: &#39;https://api.spotify.com/v1/users/addthismusic&#39;,\n     &#39;id&#39;: &#39;addthismusic&#39;,\n     &#39;type&#39;: &#39;user&#39;,\n     &#39;uri&#39;: &#39;spotify:user:addthismusic&#39;},\n    &#39;primary_color&#39;: None,\n    &#39;public&#39;: None,\n    &#39;snapshot_id&#39;: &#39;NDIxMSxiNzJiZTIyMzA5Y2I5ZTlmYTEyNGMxNjM0MDBjZDVlMzBiYjM1MmVm&#39;,\n    &#39;tracks&#39;: {&#39;href&#39;: &#39;https://api.spotify.com/v1/playlists/28uh84Y9Qp38LzZeZk0sbb/tracks&#39;,\n     &#39;total&#39;: 303},\n    &#39;type&#39;: &#39;playlist&#39;,\n    &#39;uri&#39;: &#39;spotify:playlist:28uh84Y9Qp38LzZeZk0sbb&#39;},\n   {&#39;collaborative&#39;: False,\n    &#39;description&#39;: &#39;if you are seeing this please suggest a name for this playlist... this name has not been changed for 2 years and i need a name... quality playlist tho&#39;,\n    &#39;external_urls&#39;: {&#39;spotify&#39;: &#39;https://open.spotify.com/playlist/1H0Yjji1kDLeKDiuXJKk4L&#39;},\n    &#39;href&#39;: &#39;https://api.spotify.com/v1/playlists/1H0Yjji1kDLeKDiuXJKk4L&#39;,\n    &#39;id&#39;: &#39;1H0Yjji1kDLeKDiuXJKk4L&#39;,\n    &#39;images&#39;: [{&#39;height&#39;: 640,\n      &#39;url&#39;: &#39;https://mosaic.scdn.co/640/ab67616d0000b273180c16bc7da38e56f25c3d31ab67616d0000b27322518642cedf0a572532db71ab67616d0000b273bdc2a07c0abe83e7b5314588ab67616d0000b273d9d4cb9ba4ca3e669e6ea614&#39;,\n      &#39;width&#39;: 640},\n     {&#39;height&#39;: 300,\n      &#39;url&#39;: &#39;https://mosaic.scdn.co/300/ab67616d0000b273180c16bc7da38e56f25c3d31ab67616d0000b27322518642cedf0a572532db71ab67616d0000b273bdc2a07c0abe83e7b5314588ab67616d0000b273d9d4cb9ba4ca3e669e6ea614&#39;,\n      &#39;width&#39;: 300},\n     {&#39;height&#39;: 60,\n      &#39;url&#39;: &#39;https://mosaic.scdn.co/60/ab67616d0000b273180c16bc7da38e56f25c3d31ab67616d0000b27322518642cedf0a572532db71ab67616d0000b273bdc2a07c0abe83e7b5314588ab67616d0000b273d9d4cb9ba4ca3e669e6ea614&#39;,\n      &#39;width&#39;: 60}],\n    &#39;name&#39;: &#39;name for country&#39;,\n    &#39;owner&#39;: {&#39;display_name&#39;: &#39;Justin Riemer&#39;,\n     &#39;external_urls&#39;: {&#39;spotify&#39;: &#39;https://open.spotify.com/user/jdbaseball02&#39;},\n     &#39;href&#39;: &#39;https://api.spotify.com/v1/users/jdbaseball02&#39;,\n     &#39;id&#39;: &#39;jdbaseball02&#39;,\n     &#39;type&#39;: &#39;user&#39;,\n     &#39;uri&#39;: &#39;spotify:user:jdbaseball02&#39;},\n    &#39;primary_color&#39;: None,\n    &#39;public&#39;: None,\n    &#39;snapshot_id&#39;: &#39;ODcsNmYzMmE3ZTRkNGM3M2FkNDg1OWVhOTc2OWZmZWUyY2IwNzljYjljYg==&#39;,\n    &#39;tracks&#39;: {&#39;href&#39;: &#39;https://api.spotify.com/v1/playlists/1H0Yjji1kDLeKDiuXJKk4L/tracks&#39;,\n     &#39;total&#39;: 83},\n    &#39;type&#39;: &#39;playlist&#39;,\n    &#39;uri&#39;: &#39;spotify:playlist:1H0Yjji1kDLeKDiuXJKk4L&#39;},\n   {&#39;collaborative&#39;: False,\n    &#39;description&#39;: &#39;Only real country, none of that pop BS. Also, whoever keeps reporting my playlist for the name or picture, if you don&amp;#x27;t like it then don&amp;#x27;t look at it. Mind your own damn business.&#39;,\n    &#39;external_urls&#39;: {&#39;spotify&#39;: &#39;https://open.spotify.com/playlist/455xY4qiDrNhgH6A4uK9gf&#39;},\n    &#39;href&#39;: &#39;https://api.spotify.com/v1/playlists/455xY4qiDrNhgH6A4uK9gf&#39;,\n    &#39;id&#39;: &#39;455xY4qiDrNhgH6A4uK9gf&#39;,\n    &#39;images&#39;: [{&#39;height&#39;: None,\n      &#39;url&#39;: &#39;https://i.scdn.co/image/ab67706c0000bebbeda2bcbff19da402f36b900f&#39;,\n      &#39;width&#39;: None}],\n    &#39;name&#39;: &#39;Only Straight Country&#39;,\n    &#39;owner&#39;: {&#39;display_name&#39;: &#39;geoffg315&#39;,\n     &#39;external_urls&#39;: {&#39;spotify&#39;: &#39;https://open.spotify.com/user/geoffg315&#39;},\n     &#39;href&#39;: &#39;https://api.spotify.com/v1/users/geoffg315&#39;,\n     &#39;id&#39;: &#39;geoffg315&#39;,\n     &#39;type&#39;: &#39;user&#39;,\n     &#39;uri&#39;: &#39;spotify:user:geoffg315&#39;},\n    &#39;primary_color&#39;: None,\n    &#39;public&#39;: None,\n    &#39;snapshot_id&#39;: &#39;Njg0LDFlM2IwMzdjZTUwMzQ5OTYyMDE4N2FiZjBlNTA4ZTZmMWY4OTM5MjM=&#39;,\n    &#39;tracks&#39;: {&#39;href&#39;: &#39;https://api.spotify.com/v1/playlists/455xY4qiDrNhgH6A4uK9gf/tracks&#39;,\n     &#39;total&#39;: 453},\n    &#39;type&#39;: &#39;playlist&#39;,\n    &#39;uri&#39;: &#39;spotify:playlist:455xY4qiDrNhgH6A4uK9gf&#39;},\n   {&#39;collaborative&#39;: False,\n    &#39;description&#39;: &#39;Best country music from the classic legends, George Straight, Alan Jackson, and Garth Brooks, to name a few. Most of the songs are from the 90&amp;#x27;s with a few select 2000 songs and a few tasteful earlier to mid 1900 songs.&#39;,\n    &#39;external_urls&#39;: {&#39;spotify&#39;: &#39;https://open.spotify.com/playlist/2YVqTsek7spnfavslsFhVV&#39;},\n    &#39;href&#39;: &#39;https://api.spotify.com/v1/playlists/2YVqTsek7spnfavslsFhVV&#39;,\n    &#39;id&#39;: &#39;2YVqTsek7spnfavslsFhVV&#39;,\n    &#39;images&#39;: [{&#39;height&#39;: None,\n      &#39;url&#39;: &#39;https://i.scdn.co/image/ab67706c0000bebbb2f925459301668eaba78d72&#39;,\n      &#39;width&#39;: None}],\n    &#39;name&#39;: &#39;Older Country&#39;,\n    &#39;owner&#39;: {&#39;display_name&#39;: &#39;Jonathan Gotschall&#39;,\n     &#39;external_urls&#39;: {&#39;spotify&#39;: &#39;https://open.spotify.com/user/jonathangotschall&#39;},\n     &#39;href&#39;: &#39;https://api.spotify.com/v1/users/jonathangotschall&#39;,\n     &#39;id&#39;: &#39;jonathangotschall&#39;,\n     &#39;type&#39;: &#39;user&#39;,\n     &#39;uri&#39;: &#39;spotify:user:jonathangotschall&#39;},\n    &#39;primary_color&#39;: None,\n    &#39;public&#39;: None,\n    &#39;snapshot_id&#39;: &#39;NTkyLDUyODBjN2M4NTI1NDQ2ZmM2NTU1YjM1YTVmYjJkNTdmMTExNjBmYjE=&#39;,\n    &#39;tracks&#39;: {&#39;href&#39;: &#39;https://api.spotify.com/v1/playlists/2YVqTsek7spnfavslsFhVV/tracks&#39;,\n     &#39;total&#39;: 561},\n    &#39;type&#39;: &#39;playlist&#39;,\n    &#39;uri&#39;: &#39;spotify:playlist:2YVqTsek7spnfavslsFhVV&#39;},\n   {&#39;collaborative&#39;: False,\n    &#39;description&#39;: &#39;&#39;,\n    &#39;external_urls&#39;: {&#39;spotify&#39;: &#39;https://open.spotify.com/playlist/5nsCgbzpO1epejHMoxElqY&#39;},\n    &#39;href&#39;: &#39;https://api.spotify.com/v1/playlists/5nsCgbzpO1epejHMoxElqY&#39;,\n    &#39;id&#39;: &#39;5nsCgbzpO1epejHMoxElqY&#39;,\n    &#39;images&#39;: [{&#39;height&#39;: 640,\n      &#39;url&#39;: &#39;https://mosaic.scdn.co/640/ab67616d0000b2731ecbbe0d75c1f5cb4fb411b0ab67616d0000b273700dc5e6a88e60012097968eab67616d0000b27384c2dfa91712bc62a69d0ce8ab67616d0000b273abc1b9e1373512ffb33d609b&#39;,\n      &#39;width&#39;: 640},\n     {&#39;height&#39;: 300,\n      &#39;url&#39;: &#39;https://mosaic.scdn.co/300/ab67616d0000b2731ecbbe0d75c1f5cb4fb411b0ab67616d0000b273700dc5e6a88e60012097968eab67616d0000b27384c2dfa91712bc62a69d0ce8ab67616d0000b273abc1b9e1373512ffb33d609b&#39;,\n      &#39;width&#39;: 300},\n     {&#39;height&#39;: 60,\n      &#39;url&#39;: &#39;https://mosaic.scdn.co/60/ab67616d0000b2731ecbbe0d75c1f5cb4fb411b0ab67616d0000b273700dc5e6a88e60012097968eab67616d0000b27384c2dfa91712bc62a69d0ce8ab67616d0000b273abc1b9e1373512ffb33d609b&#39;,\n      &#39;width&#39;: 60}],\n    &#39;name&#39;: &quot;I&#39;ll Name the country songs&quot;,\n    &#39;owner&#39;: {&#39;display_name&#39;: &#39;Loganmo&#39;,\n     &#39;external_urls&#39;: {&#39;spotify&#39;: &#39;https://open.spotify.com/user/smokedtrout13&#39;},\n     &#39;href&#39;: &#39;https://api.spotify.com/v1/users/smokedtrout13&#39;,\n     &#39;id&#39;: &#39;smokedtrout13&#39;,\n     &#39;type&#39;: &#39;user&#39;,\n     &#39;uri&#39;: &#39;spotify:user:smokedtrout13&#39;},\n    &#39;primary_color&#39;: None,\n    &#39;public&#39;: None,\n    &#39;snapshot_id&#39;: &#39;MjQ5LDhkMjc3YmM2MzcyYTFmN2E0ZWY1YWJjOGE1YTUwOTllMjEyOWNhYWY=&#39;,\n    &#39;tracks&#39;: {&#39;href&#39;: &#39;https://api.spotify.com/v1/playlists/5nsCgbzpO1epejHMoxElqY/tracks&#39;,\n     &#39;total&#39;: 56},\n    &#39;type&#39;: &#39;playlist&#39;,\n    &#39;uri&#39;: &#39;spotify:playlist:5nsCgbzpO1epejHMoxElqY&#39;},\n   {&#39;collaborative&#39;: False,\n    &#39;description&#39;: &#39;Same songs, just a more suiting name | Folk, Psychedelia, Country, Singer-songwriter, Baroque Pop, Saccharine Underground, Orchestral Pop, American Primitive Guitar, Dream Pop, Sunshine Pop, Art Pop, French Chansons, and Psychedelic.&#39;,\n    &#39;external_urls&#39;: {&#39;spotify&#39;: &#39;https://open.spotify.com/playlist/0bbE1irlWKpDMqY64QA0zt&#39;},\n    &#39;href&#39;: &#39;https://api.spotify.com/v1/playlists/0bbE1irlWKpDMqY64QA0zt&#39;,\n    &#39;id&#39;: &#39;0bbE1irlWKpDMqY64QA0zt&#39;,\n    &#39;images&#39;: [{&#39;height&#39;: None,\n      &#39;url&#39;: &#39;https://i.scdn.co/image/ab67706c0000bebbd43ee502ecbad17f3947d3ed&#39;,\n      &#39;width&#39;: None}],\n    &#39;name&#39;: &#39;Dark Chamber Pop | Intimate, Haunting, and Baroque&#39;,\n    &#39;owner&#39;: {&#39;display_name&#39;: &#39;thierrykappenmetdieherrie&#39;,\n     &#39;external_urls&#39;: {&#39;spotify&#39;: &#39;https://open.spotify.com/user/thierrykappenmetdieherrie&#39;},\n     &#39;href&#39;: &#39;https://api.spotify.com/v1/users/thierrykappenmetdieherrie&#39;,\n     &#39;id&#39;: &#39;thierrykappenmetdieherrie&#39;,\n     &#39;type&#39;: &#39;user&#39;,\n     &#39;uri&#39;: &#39;spotify:user:thierrykappenmetdieherrie&#39;},\n    &#39;primary_color&#39;: None,\n    &#39;public&#39;: None,\n    &#39;snapshot_id&#39;: &#39;NDIyLDcxZjRkOTFiNDUwYTM5MjZmOTFiMzJmODU1YjQ0MThhNDMxMzJlY2Y=&#39;,\n    &#39;tracks&#39;: {&#39;href&#39;: &#39;https://api.spotify.com/v1/playlists/0bbE1irlWKpDMqY64QA0zt/tracks&#39;,\n     &#39;total&#39;: 91},\n    &#39;type&#39;: &#39;playlist&#39;,\n    &#39;uri&#39;: &#39;spotify:playlist:0bbE1irlWKpDMqY64QA0zt&#39;},\n   {&#39;collaborative&#39;: False,\n    &#39;description&#39;: &#39;All the biggest names and rising stars of country music from around the world! Lee Kernaghan, The Chicks, Luke Bryan, Cam, The McClymonts, Andrew Swift, Caitlyn Shadbolt, Chris Stapleton, Jasmine Rae and more. Cover:  Andrew Swift&#39;,\n    &#39;external_urls&#39;: {&#39;spotify&#39;: &#39;https://open.spotify.com/playlist/44cNKsf0vin9VcqwNmUbxb&#39;},\n    &#39;href&#39;: &#39;https://api.spotify.com/v1/playlists/44cNKsf0vin9VcqwNmUbxb&#39;,\n    &#39;id&#39;: &#39;44cNKsf0vin9VcqwNmUbxb&#39;,\n    &#39;images&#39;: [{&#39;height&#39;: 300,\n      &#39;url&#39;: &#39;https://i.scdn.co/image/ab67706c0000da84fe736607f0329806568a376e&#39;,\n      &#39;width&#39;: 300}],\n    &#39;name&#39;: &#39;Hit Country&#39;,\n    &#39;owner&#39;: {&#39;display_name&#39;: &#39;ABC Music&#39;,\n     &#39;external_urls&#39;: {&#39;spotify&#39;: &#39;https://open.spotify.com/user/abc_music700&#39;},\n     &#39;href&#39;: &#39;https://api.spotify.com/v1/users/abc_music700&#39;,\n     &#39;id&#39;: &#39;abc_music700&#39;,\n     &#39;type&#39;: &#39;user&#39;,\n     &#39;uri&#39;: &#39;spotify:user:abc_music700&#39;},\n    &#39;primary_color&#39;: None,\n    &#39;public&#39;: None,\n    &#39;snapshot_id&#39;: &#39;MjU4OCw5MWIwMWE2YjVjNWFiYmZiZmJkNmE3ZWI1OTNlNjZiZmI5NGYyZmQx&#39;,\n    &#39;tracks&#39;: {&#39;href&#39;: &#39;https://api.spotify.com/v1/playlists/44cNKsf0vin9VcqwNmUbxb/tracks&#39;,\n     &#39;total&#39;: 47},\n    &#39;type&#39;: &#39;playlist&#39;,\n    &#39;uri&#39;: &#39;spotify:playlist:44cNKsf0vin9VcqwNmUbxb&#39;},\n   {&#39;collaborative&#39;: False,\n    &#39;description&#39;: &#39;Country music from artists just starting to get their names known. These are tomorrow&amp;#x27;s stars!  Send submissions to playlists@soundcheckentertainment.ca&#39;,\n    &#39;external_urls&#39;: {&#39;spotify&#39;: &#39;https://open.spotify.com/playlist/4iqiXLgYArrZDfHZqFzdkp&#39;},\n    &#39;href&#39;: &#39;https://api.spotify.com/v1/playlists/4iqiXLgYArrZDfHZqFzdkp&#39;,\n    &#39;id&#39;: &#39;4iqiXLgYArrZDfHZqFzdkp&#39;,\n    &#39;images&#39;: [{&#39;height&#39;: None,\n      &#39;url&#39;: &#39;https://i.scdn.co/image/ab67706c0000bebb7df3d68b2f29a2b4881a35ed&#39;,\n      &#39;width&#39;: None}],\n    &#39;name&#39;: &#39;Rising Country&#39;,\n    &#39;owner&#39;: {&#39;display_name&#39;: &#39;soundcheckentertainment&#39;,\n     &#39;external_urls&#39;: {&#39;spotify&#39;: &#39;https://open.spotify.com/user/soundcheckentertainment&#39;},\n     &#39;href&#39;: &#39;https://api.spotify.com/v1/users/soundcheckentertainment&#39;,\n     &#39;id&#39;: &#39;soundcheckentertainment&#39;,\n     &#39;type&#39;: &#39;user&#39;,\n     &#39;uri&#39;: &#39;spotify:user:soundcheckentertainment&#39;},\n    &#39;primary_color&#39;: None,\n    &#39;public&#39;: None,\n    &#39;snapshot_id&#39;: &#39;MTIyLGE0YjY3MmM0NWYwN2ZhY2VhYjBiNjBhMjcxYTc1MjkxNzQyODY0NzI=&#39;,\n    &#39;tracks&#39;: {&#39;href&#39;: &#39;https://api.spotify.com/v1/playlists/4iqiXLgYArrZDfHZqFzdkp/tracks&#39;,\n     &#39;total&#39;: 71},\n    &#39;type&#39;: &#39;playlist&#39;,\n    &#39;uri&#39;: &#39;spotify:playlist:4iqiXLgYArrZDfHZqFzdkp&#39;},\n   {&#39;collaborative&#39;: False,\n    &#39;description&#39;: &#39;The name says it all. Just some good-time toe-tappers and classic country standards as well as some Jon Wolfe favorites y&amp;#x27;all know and love. Give it a follow! - JW&#39;,\n    &#39;external_urls&#39;: {&#39;spotify&#39;: &#39;https://open.spotify.com/playlist/1cGsLdlWs0vQnRglrWWrBL&#39;},\n    &#39;href&#39;: &#39;https://api.spotify.com/v1/playlists/1cGsLdlWs0vQnRglrWWrBL&#39;,\n    &#39;id&#39;: &#39;1cGsLdlWs0vQnRglrWWrBL&#39;,\n    &#39;images&#39;: [{&#39;height&#39;: 300,\n      &#39;url&#39;: &#39;https://i.scdn.co/image/ab67706c0000da84a4d25f5ddc1053a3d7c9173c&#39;,\n      &#39;width&#39;: 300}],\n    &#39;name&#39;: &#39;Cold Beer Country Playlist&#39;,\n    &#39;owner&#39;: {&#39;display_name&#39;: &#39;jonwolfecountry&#39;,\n     &#39;external_urls&#39;: {&#39;spotify&#39;: &#39;https://open.spotify.com/user/jonwolfecountry&#39;},\n     &#39;href&#39;: &#39;https://api.spotify.com/v1/users/jonwolfecountry&#39;,\n     &#39;id&#39;: &#39;jonwolfecountry&#39;,\n     &#39;type&#39;: &#39;user&#39;,\n     &#39;uri&#39;: &#39;spotify:user:jonwolfecountry&#39;},\n    &#39;primary_color&#39;: None,\n    &#39;public&#39;: None,\n    &#39;snapshot_id&#39;: &#39;OTAsY2JiZDllOGUxNjNiYjA4NzBkNGYzZTg3NmI0MjY0ZDAxZmM0ZGRkYg==&#39;,\n    &#39;tracks&#39;: {&#39;href&#39;: &#39;https://api.spotify.com/v1/playlists/1cGsLdlWs0vQnRglrWWrBL/tracks&#39;,\n     &#39;total&#39;: 43},\n    &#39;type&#39;: &#39;playlist&#39;,\n    &#39;uri&#39;: &#39;spotify:playlist:1cGsLdlWs0vQnRglrWWrBL&#39;},\n   {&#39;collaborative&#39;: False,\n    &#39;description&#39;: &#39;&#39;,\n    &#39;external_urls&#39;: {&#39;spotify&#39;: &#39;https://open.spotify.com/playlist/2cyLo5dVHF39loARmDRAvP&#39;},\n    &#39;href&#39;: &#39;https://api.spotify.com/v1/playlists/2cyLo5dVHF39loARmDRAvP&#39;,\n    &#39;id&#39;: &#39;2cyLo5dVHF39loARmDRAvP&#39;,\n    &#39;images&#39;: [{&#39;height&#39;: 640,\n      &#39;url&#39;: &#39;https://mosaic.scdn.co/640/ab67616d0000b27305e4408393e1c81a8ab1bf26ab67616d0000b273608370238c487e505e961d15ab67616d0000b273ccba76fad1c624c09e72bc78ab67616d0000b273f40b427040108cfcb1503800&#39;,\n      &#39;width&#39;: 640},\n     {&#39;height&#39;: 300,\n      &#39;url&#39;: &#39;https://mosaic.scdn.co/300/ab67616d0000b27305e4408393e1c81a8ab1bf26ab67616d0000b273608370238c487e505e961d15ab67616d0000b273ccba76fad1c624c09e72bc78ab67616d0000b273f40b427040108cfcb1503800&#39;,\n      &#39;width&#39;: 300},\n     {&#39;height&#39;: 60,\n      &#39;url&#39;: &#39;https://mosaic.scdn.co/60/ab67616d0000b27305e4408393e1c81a8ab1bf26ab67616d0000b273608370238c487e505e961d15ab67616d0000b273ccba76fad1c624c09e72bc78ab67616d0000b273f40b427040108cfcb1503800&#39;,\n      &#39;width&#39;: 60}],\n    &#39;name&#39;: &#39;A country playlist with an original name&#39;,\n    &#39;owner&#39;: {&#39;display_name&#39;: &#39;E.A.E&#39;,\n     &#39;external_urls&#39;: {&#39;spotify&#39;: &#39;https://open.spotify.com/user/f523pzplhxq3m7cmfbsxbwtqx&#39;},\n     &#39;href&#39;: &#39;https://api.spotify.com/v1/users/f523pzplhxq3m7cmfbsxbwtqx&#39;,\n     &#39;id&#39;: &#39;f523pzplhxq3m7cmfbsxbwtqx&#39;,\n     &#39;type&#39;: &#39;user&#39;,\n     &#39;uri&#39;: &#39;spotify:user:f523pzplhxq3m7cmfbsxbwtqx&#39;},\n    &#39;primary_color&#39;: None,\n    &#39;public&#39;: None,\n    &#39;snapshot_id&#39;: &#39;MTQzLGM0YWZlYjM0N2VhZWI3MmVmYTRhNzc5ZDUzODBiYjc1YmU5OGIxZWU=&#39;,\n    &#39;tracks&#39;: {&#39;href&#39;: &#39;https://api.spotify.com/v1/playlists/2cyLo5dVHF39loARmDRAvP/tracks&#39;,\n     &#39;total&#39;: 138},\n    &#39;type&#39;: &#39;playlist&#39;,\n    &#39;uri&#39;: &#39;spotify:playlist:2cyLo5dVHF39loARmDRAvP&#39;},\n   {&#39;collaborative&#39;: False,\n    &#39;description&#39;: &#39;&#39;,\n    &#39;external_urls&#39;: {&#39;spotify&#39;: &#39;https://open.spotify.com/playlist/26EVvXhtlN9IRZCggfJ4jY&#39;},\n    &#39;href&#39;: &#39;https://api.spotify.com/v1/playlists/26EVvXhtlN9IRZCggfJ4jY&#39;,\n    &#39;id&#39;: &#39;26EVvXhtlN9IRZCggfJ4jY&#39;,\n    &#39;images&#39;: [{&#39;height&#39;: 640,\n      &#39;url&#39;: &#39;https://mosaic.scdn.co/640/ab67616d0000b2734f239e3ce20b8e350244e84aab67616d0000b2736b80f812538bb20654be4aafab67616d0000b273732542924a523d85901cd7ebab67616d0000b273835eac21a1158e54eecd6260&#39;,\n      &#39;width&#39;: 640},\n     {&#39;height&#39;: 300,\n      &#39;url&#39;: &#39;https://mosaic.scdn.co/300/ab67616d0000b2734f239e3ce20b8e350244e84aab67616d0000b2736b80f812538bb20654be4aafab67616d0000b273732542924a523d85901cd7ebab67616d0000b273835eac21a1158e54eecd6260&#39;,\n      &#39;width&#39;: 300},\n     {&#39;height&#39;: 60,\n      &#39;url&#39;: &#39;https://mosaic.scdn.co/60/ab67616d0000b2734f239e3ce20b8e350244e84aab67616d0000b2736b80f812538bb20654be4aafab67616d0000b273732542924a523d85901cd7ebab67616d0000b273835eac21a1158e54eecd6260&#39;,\n      &#39;width&#39;: 60}],\n    &#39;name&#39;: &#39;Name country&#39;,\n    &#39;owner&#39;: {&#39;display_name&#39;: &#39;Kathy Sankey Clifton&#39;,\n     &#39;external_urls&#39;: {&#39;spotify&#39;: &#39;https://open.spotify.com/user/1248895543&#39;},\n     &#39;href&#39;: &#39;https://api.spotify.com/v1/users/1248895543&#39;,\n     &#39;id&#39;: &#39;1248895543&#39;,\n     &#39;type&#39;: &#39;user&#39;,\n     &#39;uri&#39;: &#39;spotify:user:1248895543&#39;},\n    &#39;primary_color&#39;: None,\n    &#39;public&#39;: None,\n    &#39;snapshot_id&#39;: &#39;MTQzLGMxOGEwM2FmMzViMDY0YjAxZThmNDc5ZTFhYWI4OGNiZWQ0NzU2YTc=&#39;,\n    &#39;tracks&#39;: {&#39;href&#39;: &#39;https://api.spotify.com/v1/playlists/26EVvXhtlN9IRZCggfJ4jY/tracks&#39;,\n     &#39;total&#39;: 140},\n    &#39;type&#39;: &#39;playlist&#39;,\n    &#39;uri&#39;: &#39;spotify:playlist:26EVvXhtlN9IRZCggfJ4jY&#39;},\n   {&#39;collaborative&#39;: False,\n    &#39;description&#39;: &#39;&#39;,\n    &#39;external_urls&#39;: {&#39;spotify&#39;: &#39;https://open.spotify.com/playlist/7AJAlfKOrPctTh5c2wOSOB&#39;},\n    &#39;href&#39;: &#39;https://api.spotify.com/v1/playlists/7AJAlfKOrPctTh5c2wOSOB&#39;,\n    &#39;id&#39;: &#39;7AJAlfKOrPctTh5c2wOSOB&#39;,\n    &#39;images&#39;: [{&#39;height&#39;: 640,\n      &#39;url&#39;: &#39;https://mosaic.scdn.co/640/ab67616d0000b27305821a72e9fb65271ce87230ab67616d0000b2735a6952e2a6f47654f1f249bfab67616d0000b2739252c9fcdef40fc5c6d30f14ab67616d0000b273a01ac0717fb8f3091d1d3bf3&#39;,\n      &#39;width&#39;: 640},\n     {&#39;height&#39;: 300,\n      &#39;url&#39;: &#39;https://mosaic.scdn.co/300/ab67616d0000b27305821a72e9fb65271ce87230ab67616d0000b2735a6952e2a6f47654f1f249bfab67616d0000b2739252c9fcdef40fc5c6d30f14ab67616d0000b273a01ac0717fb8f3091d1d3bf3&#39;,\n      &#39;width&#39;: 300},\n     {&#39;height&#39;: 60,\n      &#39;url&#39;: &#39;https://mosaic.scdn.co/60/ab67616d0000b27305821a72e9fb65271ce87230ab67616d0000b2735a6952e2a6f47654f1f249bfab67616d0000b2739252c9fcdef40fc5c6d30f14ab67616d0000b273a01ac0717fb8f3091d1d3bf3&#39;,\n      &#39;width&#39;: 60}],\n    &#39;name&#39;: &#39;No name country&#39;,\n    &#39;owner&#39;: {&#39;display_name&#39;: &#39;Kurt&#39;,\n     &#39;external_urls&#39;: {&#39;spotify&#39;: &#39;https://open.spotify.com/user/lilhbn5opq63ratfdj784mipk&#39;},\n     &#39;href&#39;: &#39;https://api.spotify.com/v1/users/lilhbn5opq63ratfdj784mipk&#39;,\n     &#39;id&#39;: &#39;lilhbn5opq63ratfdj784mipk&#39;,\n     &#39;type&#39;: &#39;user&#39;,\n     &#39;uri&#39;: &#39;spotify:user:lilhbn5opq63ratfdj784mipk&#39;},\n    &#39;primary_color&#39;: None,\n    &#39;public&#39;: None,\n    &#39;snapshot_id&#39;: &#39;NTksMzZmZDI4YTk5OGEyMjM2Y2VkMDhkMzRiYzkyOGIyNWNhZTBiZWYyNg==&#39;,\n    &#39;tracks&#39;: {&#39;href&#39;: &#39;https://api.spotify.com/v1/playlists/7AJAlfKOrPctTh5c2wOSOB/tracks&#39;,\n     &#39;total&#39;: 56},\n    &#39;type&#39;: &#39;playlist&#39;,\n    &#39;uri&#39;: &#39;spotify:playlist:7AJAlfKOrPctTh5c2wOSOB&#39;},\n   {&#39;collaborative&#39;: False,\n    &#39;description&#39;: &#39;Hip Hop, Deutscher Rap, Latin, Bachata, RnB, EDM, Country, you name it, these are some of my favs!!!&#39;,\n    &#39;external_urls&#39;: {&#39;spotify&#39;: &#39;https://open.spotify.com/playlist/2Vw8j3ExNoA8MWkPqYnUyH&#39;},\n    &#39;href&#39;: &#39;https://api.spotify.com/v1/playlists/2Vw8j3ExNoA8MWkPqYnUyH&#39;,\n    &#39;id&#39;: &#39;2Vw8j3ExNoA8MWkPqYnUyH&#39;,\n    &#39;images&#39;: [{&#39;height&#39;: None,\n      &#39;url&#39;: &#39;https://i.scdn.co/image/ab67706c0000bebbadd1f68d5982ea7f578bf5a8&#39;,\n      &#39;width&#39;: None}],\n    &#39;name&#39;: &#39;PZ Jawnz&#39;,\n    &#39;owner&#39;: {&#39;display_name&#39;: &#39;Pierre Suranto&#39;,\n     &#39;external_urls&#39;: {&#39;spotify&#39;: &#39;https://open.spotify.com/user/226qu63os3yzndgnt7ciej3va&#39;},\n     &#39;href&#39;: &#39;https://api.spotify.com/v1/users/226qu63os3yzndgnt7ciej3va&#39;,\n     &#39;id&#39;: &#39;226qu63os3yzndgnt7ciej3va&#39;,\n     &#39;type&#39;: &#39;user&#39;,\n     &#39;uri&#39;: &#39;spotify:user:226qu63os3yzndgnt7ciej3va&#39;},\n    &#39;primary_color&#39;: None,\n    &#39;public&#39;: None,\n    &#39;snapshot_id&#39;: &#39;NzI4LDc5ZmU2M2ZmOTQ2ZTZhNjM2NDIwOTYwMTdhMDhlZmIzMThjNTM1YzU=&#39;,\n    &#39;tracks&#39;: {&#39;href&#39;: &#39;https://api.spotify.com/v1/playlists/2Vw8j3ExNoA8MWkPqYnUyH/tracks&#39;,\n     &#39;total&#39;: 655},\n    &#39;type&#39;: &#39;playlist&#39;,\n    &#39;uri&#39;: &#39;spotify:playlist:2Vw8j3ExNoA8MWkPqYnUyH&#39;},\n   {&#39;collaborative&#39;: False,\n    &#39;description&#39;: &#39;a little bit of rap, pop, country, boy bands... you name it, it&amp;#x27;s probably in this playlist&#39;,\n    &#39;external_urls&#39;: {&#39;spotify&#39;: &#39;https://open.spotify.com/playlist/7jDTWsqCmgAmzbKpWdqULj&#39;},\n    &#39;href&#39;: &#39;https://api.spotify.com/v1/playlists/7jDTWsqCmgAmzbKpWdqULj&#39;,\n    &#39;id&#39;: &#39;7jDTWsqCmgAmzbKpWdqULj&#39;,\n    &#39;images&#39;: [{&#39;height&#39;: None,\n      &#39;url&#39;: &#39;https://i.scdn.co/image/ab67706c0000bebb9e5d22cb6ae9c8683496b296&#39;,\n      &#39;width&#39;: None}],\n    &#39;name&#39;: &#39;lil bit of everything&#39;,\n    &#39;owner&#39;: {&#39;display_name&#39;: &#39;brookelander&#39;,\n     &#39;external_urls&#39;: {&#39;spotify&#39;: &#39;https://open.spotify.com/user/brookelander&#39;},\n     &#39;href&#39;: &#39;https://api.spotify.com/v1/users/brookelander&#39;,\n     &#39;id&#39;: &#39;brookelander&#39;,\n     &#39;type&#39;: &#39;user&#39;,\n     &#39;uri&#39;: &#39;spotify:user:brookelander&#39;},\n    &#39;primary_color&#39;: None,\n    &#39;public&#39;: None,\n    &#39;snapshot_id&#39;: &#39;Mjc3LDJmYzEyZmZlMjZhMTU0MWVmNzBiMTdmZTU1NDczNGJmMWFmNzRkMDg=&#39;,\n    &#39;tracks&#39;: {&#39;href&#39;: &#39;https://api.spotify.com/v1/playlists/7jDTWsqCmgAmzbKpWdqULj/tracks&#39;,\n     &#39;total&#39;: 269},\n    &#39;type&#39;: &#39;playlist&#39;,\n    &#39;uri&#39;: &#39;spotify:playlist:7jDTWsqCmgAmzbKpWdqULj&#39;},\n   {&#39;collaborative&#39;: False,\n    &#39;description&#39;: &#39;The name says it all, Chilled, Metal, bitta Country, Pop, Throwbacks, Today&amp;#x27;s hits. ENJOY :)&#39;,\n    &#39;external_urls&#39;: {&#39;spotify&#39;: &#39;https://open.spotify.com/playlist/2ruzu9vkUYqvYqCE2r5Lbd&#39;},\n    &#39;href&#39;: &#39;https://api.spotify.com/v1/playlists/2ruzu9vkUYqvYqCE2r5Lbd&#39;,\n    &#39;id&#39;: &#39;2ruzu9vkUYqvYqCE2r5Lbd&#39;,\n    &#39;images&#39;: [{&#39;height&#39;: 640,\n      &#39;url&#39;: &#39;https://mosaic.scdn.co/640/ab67616d0000b2733fec29dbe0ea65e5069070a1ab67616d0000b2735288f048b151164b4cbf9f50ab67616d0000b273a9eccb7ff0ef93cba9e4da5dab67616d0000b273f48be3eebf9d749ecaab7000&#39;,\n      &#39;width&#39;: 640},\n     {&#39;height&#39;: 300,\n      &#39;url&#39;: &#39;https://mosaic.scdn.co/300/ab67616d0000b2733fec29dbe0ea65e5069070a1ab67616d0000b2735288f048b151164b4cbf9f50ab67616d0000b273a9eccb7ff0ef93cba9e4da5dab67616d0000b273f48be3eebf9d749ecaab7000&#39;,\n      &#39;width&#39;: 300},\n     {&#39;height&#39;: 60,\n      &#39;url&#39;: &#39;https://mosaic.scdn.co/60/ab67616d0000b2733fec29dbe0ea65e5069070a1ab67616d0000b2735288f048b151164b4cbf9f50ab67616d0000b273a9eccb7ff0ef93cba9e4da5dab67616d0000b273f48be3eebf9d749ecaab7000&#39;,\n      &#39;width&#39;: 60}],\n    &#39;name&#39;: &#39;Absolutely Everything&#39;,\n    &#39;owner&#39;: {&#39;display_name&#39;: &#39;Saffron Ownsworth&#39;,\n     &#39;external_urls&#39;: {&#39;spotify&#39;: &#39;https://open.spotify.com/user/1236536124&#39;},\n     &#39;href&#39;: &#39;https://api.spotify.com/v1/users/1236536124&#39;,\n     &#39;id&#39;: &#39;1236536124&#39;,\n     &#39;type&#39;: &#39;user&#39;,\n     &#39;uri&#39;: &#39;spotify:user:1236536124&#39;},\n    &#39;primary_color&#39;: None,\n    &#39;public&#39;: None,\n    &#39;snapshot_id&#39;: &#39;MzE5NCw5MmZmZGEzODFkYzViMTJiZjg0ZjcxMzZhOGEwYmYxODhiYzgzMTlm&#39;,\n    &#39;tracks&#39;: {&#39;href&#39;: &#39;https://api.spotify.com/v1/playlists/2ruzu9vkUYqvYqCE2r5Lbd/tracks&#39;,\n     &#39;total&#39;: 2880},\n    &#39;type&#39;: &#39;playlist&#39;,\n    &#39;uri&#39;: &#39;spotify:playlist:2ruzu9vkUYqvYqCE2r5Lbd&#39;}],\n  &#39;limit&#39;: 20,\n  &#39;next&#39;: &#39;https://api.spotify.com/v1/search?query=name%3Acountry&amp;type=playlist&amp;offset=20&amp;limit=20&#39;,\n  &#39;offset&#39;: 0,\n  &#39;previous&#39;: None,\n  &#39;total&#39;: 192}}"
     },
     "metadata": {},
     "execution_count": 12
    }
   ],
   "source": [
    "r = r.json()\n",
    "r"
   ]
  },
  {
   "cell_type": "code",
   "execution_count": 29,
   "metadata": {},
   "outputs": [],
   "source": [
    "user_list = []\n",
    "description_list = []\n",
    "url_list = []\n",
    "owner_list = []"
   ]
  },
  {
   "cell_type": "code",
   "execution_count": 27,
   "metadata": {},
   "outputs": [
    {
     "output_type": "execute_result",
     "data": {
      "text/plain": "{&#39;collaborative&#39;: False,\n &#39;description&#39;: &quot;TO SUBMIT A SONG please go to instagram.com/ryanrobinette | The hottest country tracks from 2019 - 2020. From big names who&#39;ve been burning up the charts for years to the hottest new acts in country! All right here - updated weekly. #countrymusic #hotcountry #newcountry #newboots&quot;,\n &#39;external_urls&#39;: {&#39;spotify&#39;: &#39;https://open.spotify.com/playlist/7ot6fpKqnafbgXDLU9kLNC&#39;},\n &#39;href&#39;: &#39;https://api.spotify.com/v1/playlists/7ot6fpKqnafbgXDLU9kLNC&#39;,\n &#39;id&#39;: &#39;7ot6fpKqnafbgXDLU9kLNC&#39;,\n &#39;images&#39;: [{&#39;height&#39;: 300,\n   &#39;url&#39;: &#39;https://i.scdn.co/image/ab67706c0000da84abfd20903c454b83a7c98115&#39;,\n   &#39;width&#39;: 300}],\n &#39;name&#39;: &#39;Country 2020-2021&#39;,\n &#39;owner&#39;: {&#39;display_name&#39;: &#39;Ryan Robinette&#39;,\n  &#39;external_urls&#39;: {&#39;spotify&#39;: &#39;https://open.spotify.com/user/1225816146&#39;},\n  &#39;href&#39;: &#39;https://api.spotify.com/v1/users/1225816146&#39;,\n  &#39;id&#39;: &#39;1225816146&#39;,\n  &#39;type&#39;: &#39;user&#39;,\n  &#39;uri&#39;: &#39;spotify:user:1225816146&#39;},\n &#39;primary_color&#39;: None,\n &#39;public&#39;: None,\n &#39;snapshot_id&#39;: &#39;OTQ5LDc1ZjJjYWVmNjZlMzZhOGY3NGQ3YzZhY2Q2YmE2NGVmNzZkOTgwMDc=&#39;,\n &#39;tracks&#39;: {&#39;href&#39;: &#39;https://api.spotify.com/v1/playlists/7ot6fpKqnafbgXDLU9kLNC/tracks&#39;,\n  &#39;total&#39;: 114},\n &#39;type&#39;: &#39;playlist&#39;,\n &#39;uri&#39;: &#39;spotify:playlist:7ot6fpKqnafbgXDLU9kLNC&#39;}"
     },
     "metadata": {},
     "execution_count": 27
    }
   ],
   "source": [
    "r['playlists']['items'][0]"
   ]
  },
  {
   "cell_type": "code",
   "execution_count": 30,
   "metadata": {},
   "outputs": [],
   "source": [
    "for i in range(len(r['playlists']['items'])):\n",
    "    user_list.append(r['playlists']['items'][i][\"owner\"][\"display_name\"])\n",
    "    description_list.append(r['playlists']['items'][i]['description'])\n",
    "    url_list.append(r['playlists']['items'][i]['external_urls']['spotify'])"
   ]
  },
  {
   "cell_type": "code",
   "execution_count": 32,
   "metadata": {
    "tags": []
   },
   "outputs": [
    {
     "output_type": "stream",
     "name": "stdout",
     "text": "[&#39;Ryan Robinette&#39;, &#39;Topsify Australia&#39;, &#39;Adam Denney&#39;, &#39;UPstar_Music&#39;, &#39;Cmd Shft&#39;, &#39;addthismusic&#39;, &#39;Justin Riemer&#39;, &#39;geoffg315&#39;, &#39;Jonathan Gotschall&#39;, &#39;Loganmo&#39;, &#39;thierrykappenmetdieherrie&#39;, &#39;ABC Music&#39;, &#39;soundcheckentertainment&#39;, &#39;jonwolfecountry&#39;, &#39;E.A.E&#39;, &#39;Kathy Sankey Clifton&#39;, &#39;Kurt&#39;, &#39;Pierre Suranto&#39;, &#39;brookelander&#39;, &#39;Saffron Ownsworth&#39;]\n"
    }
   ],
   "source": [
    "print(user_list)"
   ]
  },
  {
   "cell_type": "code",
   "execution_count": 33,
   "metadata": {
    "tags": []
   },
   "outputs": [
    {
     "output_type": "stream",
     "name": "stdout",
     "text": "[&quot;TO SUBMIT A SONG please go to instagram.com/ryanrobinette | The hottest country tracks from 2019 - 2020. From big names who&#39;ve been burning up the charts for years to the hottest new acts in country! All right here - updated weekly. #countrymusic #hotcountry #newcountry #newboots&quot;, &#39;The sweet spot where Pop meets Country! Featuring your favourite Australian artists, and the biggest US names!&#39;, &#39;Helping new country artists, and a few old ones, get their name out.&#39;, &#39;What&amp;#x27;s better than a playlist featuring two of the hottest names in Country Music? MAYBE a cold beer, but that&amp;#x27;s it. &#39;, &#39;Country &amp;amp; Americana&amp;#x27;s next generation of newcomers on the rise and household names we all know and love! Updated weekly!&#39;, &#39;Add This Music has put together a list of the top tracks across Hip Hop, R&amp;amp;B, Pop, EDM, Country, Rock, you name it! The world&amp;#x27;s best clean music playlist ever! Be sure to follow the playlist &amp;amp; subscribe!&#39;, &#39;if you are seeing this please suggest a name for this playlist... this name has not been changed for 2 years and i need a name... quality playlist tho&#39;, &#39;Only real country, none of that pop BS. Also, whoever keeps reporting my playlist for the name or picture, if you don&amp;#x27;t like it then don&amp;#x27;t look at it. Mind your own damn business.&#39;, &#39;Best country music from the classic legends, George Straight, Alan Jackson, and Garth Brooks, to name a few. Most of the songs are from the 90&amp;#x27;s with a few select 2000 songs and a few tasteful earlier to mid 1900 songs.&#39;, &#39;&#39;, &#39;Same songs, just a more suiting name | Folk, Psychedelia, Country, Singer-songwriter, Baroque Pop, Saccharine Underground, Orchestral Pop, American Primitive Guitar, Dream Pop, Sunshine Pop, Art Pop, French Chansons, and Psychedelic.&#39;, &#39;All the biggest names and rising stars of country music from around the world! Lee Kernaghan, The Chicks, Luke Bryan, Cam, The McClymonts, Andrew Swift, Caitlyn Shadbolt, Chris Stapleton, Jasmine Rae and more. Cover:  Andrew Swift&#39;, &#39;Country music from artists just starting to get their names known. These are tomorrow&amp;#x27;s stars!  Send submissions to playlists@soundcheckentertainment.ca&#39;, &#39;The name says it all. Just some good-time toe-tappers and classic country standards as well as some Jon Wolfe favorites y&amp;#x27;all know and love. Give it a follow! - JW&#39;, &#39;&#39;, &#39;&#39;, &#39;&#39;, &#39;Hip Hop, Deutscher Rap, Latin, Bachata, RnB, EDM, Country, you name it, these are some of my favs!!!&#39;, &#39;a little bit of rap, pop, country, boy bands... you name it, it&amp;#x27;s probably in this playlist&#39;, &#39;The name says it all, Chilled, Metal, bitta Country, Pop, Throwbacks, Today&amp;#x27;s hits. ENJOY :)&#39;]\n"
    }
   ],
   "source": [
    "print(description_list)"
   ]
  },
  {
   "cell_type": "code",
   "execution_count": 34,
   "metadata": {
    "tags": []
   },
   "outputs": [
    {
     "output_type": "stream",
     "name": "stdout",
     "text": "[&#39;https://open.spotify.com/playlist/7ot6fpKqnafbgXDLU9kLNC&#39;, &#39;https://open.spotify.com/playlist/5nYBZ7TM7SRaf2sYGxM5xO&#39;, &#39;https://open.spotify.com/playlist/5S5EGubqD8LGcvcrb0MIVT&#39;, &#39;https://open.spotify.com/playlist/54meGUzXjGJuRsH9vu5YEc&#39;, &#39;https://open.spotify.com/playlist/6x0tEfPJZuTu2hBSgZBnnR&#39;, &#39;https://open.spotify.com/playlist/28uh84Y9Qp38LzZeZk0sbb&#39;, &#39;https://open.spotify.com/playlist/1H0Yjji1kDLeKDiuXJKk4L&#39;, &#39;https://open.spotify.com/playlist/455xY4qiDrNhgH6A4uK9gf&#39;, &#39;https://open.spotify.com/playlist/2YVqTsek7spnfavslsFhVV&#39;, &#39;https://open.spotify.com/playlist/5nsCgbzpO1epejHMoxElqY&#39;, &#39;https://open.spotify.com/playlist/0bbE1irlWKpDMqY64QA0zt&#39;, &#39;https://open.spotify.com/playlist/44cNKsf0vin9VcqwNmUbxb&#39;, &#39;https://open.spotify.com/playlist/4iqiXLgYArrZDfHZqFzdkp&#39;, &#39;https://open.spotify.com/playlist/1cGsLdlWs0vQnRglrWWrBL&#39;, &#39;https://open.spotify.com/playlist/2cyLo5dVHF39loARmDRAvP&#39;, &#39;https://open.spotify.com/playlist/26EVvXhtlN9IRZCggfJ4jY&#39;, &#39;https://open.spotify.com/playlist/7AJAlfKOrPctTh5c2wOSOB&#39;, &#39;https://open.spotify.com/playlist/2Vw8j3ExNoA8MWkPqYnUyH&#39;, &#39;https://open.spotify.com/playlist/7jDTWsqCmgAmzbKpWdqULj&#39;, &#39;https://open.spotify.com/playlist/2ruzu9vkUYqvYqCE2r5Lbd&#39;]\n"
    }
   ],
   "source": [
    "print(url_list)"
   ]
  },
  {
   "cell_type": "code",
   "execution_count": 37,
   "metadata": {},
   "outputs": [],
   "source": [
    "data_dict = {\n",
    "    \"User\" : user_list,\n",
    "    \"description\" : description_list,\n",
    "    \"url\" : url_list\n",
    "}"
   ]
  },
  {
   "cell_type": "code",
   "execution_count": 38,
   "metadata": {},
   "outputs": [],
   "source": [
    "df = pd.DataFrame(data_dict)"
   ]
  },
  {
   "cell_type": "code",
   "execution_count": 41,
   "metadata": {},
   "outputs": [],
   "source": [
    "df.to_csv(\"playlist_info.csv\")"
   ]
  },
  {
   "cell_type": "code",
   "execution_count": null,
   "metadata": {},
   "outputs": [],
   "source": []
  }
 ]
}